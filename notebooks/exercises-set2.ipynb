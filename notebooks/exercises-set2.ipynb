{
 "cells": [
  {
   "cell_type": "markdown",
   "id": "1ccd2257",
   "metadata": {},
   "source": [
    "# Exercise set 2\n",
    "Instructions: Use Google Colab to run the notebook; click the rocket-icon and choose Colab. Submit the completed notebook as instructed in the course."
   ]
  },
  {
   "cell_type": "markdown",
   "id": "8693f886",
   "metadata": {},
   "source": [
    "# Task 0: get and import needed helper code "
   ]
  },
  {
   "cell_type": "code",
   "execution_count": null,
   "id": "505f83ee",
   "metadata": {},
   "outputs": [],
   "source": [
    "!git clone https://github.com/luma-lapinamk/jyri-pso23.git"
   ]
  },
  {
   "cell_type": "code",
   "execution_count": null,
   "id": "bc7f25a1",
   "metadata": {},
   "outputs": [],
   "source": [
    "import sys\n",
    "sys.path.insert(0, 'jyri-pso23/code')\n",
    "from helpers_set2 import *"
   ]
  },
  {
   "cell_type": "markdown",
   "id": "d390022d",
   "metadata": {},
   "source": [
    "# Task 1: Optimization by gradient descent\n",
    "The code in the cell below creates an interactive plot.\n",
    "\n",
    "Press the 'Run Interact'-button to run optimization; the graphs will show up after pressing for the first time.\n",
    "\n",
    "Play with setting the parameter values: 'num_iterations' is the number of iterations, 'step-size' and the 'step-size scaling rate' control the step size, in the gradient descent; at each iteration, step size is updated as follows: \n",
    "\n",
    "step_size  $\\leftarrow$ step_size * step_size_scaling_rate \n",
    "\n",
    "\n",
    "Your task is to adjust the 'step-size' and the 'step-size scaling rate', so that when the 'num_iterations' is set to 100 (fully to the right), the global minimum of the objective function (plotted in blue in the left-most plot; its derivative function is plotted in dashed red) is reached \"sufficiently well\". The \"sufficiently well\" is defined here so, that the black curve that evolves in the middle plot and in the right plot will not touch the red lines and goes through the green dashed line. \n",
    "\n",
    "In the 'Answer'-section, briefly describe in the empty cell i) what do the parameters mean/control (more specifically), ii) how does changing them can be seen from the plots, and iii) what parameter values did you choose (to solve the task, if managed to do so).\n",
    "\n",
    "Hint: keep the step-size scaling rate fixed to 1, at least first."
   ]
  },
  {
   "cell_type": "code",
   "execution_count": null,
   "id": "72b2e159",
   "metadata": {},
   "outputs": [],
   "source": [
    "interactive_plot = setup_interactive_optimization_case1()\n",
    "interactive_plot"
   ]
  },
  {
   "cell_type": "markdown",
   "id": "7663506b",
   "metadata": {},
   "source": [
    "## Answer\n",
    "Input your answers to the cell below."
   ]
  },
  {
   "cell_type": "markdown",
   "id": "de0a4715",
   "metadata": {},
   "source": []
  },
  {
   "cell_type": "markdown",
   "id": "823d70de",
   "metadata": {},
   "source": [
    "# Task 2: Optimization by gradient descent with momentum\n",
    "Here we have the same task, but starting from a different initial position and using a different optimizer, gradient descent with momentum.\n",
    "\n",
    "We have two additional parameters: 'momentum rate' and 'momentum rate scaling rate', which control the momentum rate\n",
    "in the algorithm; at each iteration, momentum rate is updated as follows: \n",
    "\n",
    "momentum_rate  $\\leftarrow$ momentum_rate * momentum_rate_scaling_rate\n",
    "\n",
    "In the 'Answer'-section, briefly describe in the empty cell i) what do the additional parameters mean/control (more specifically), ii) how does changing them can be seen from the plots, and iii) what parameter values did you choose (to solve the task, if managed to do so).\n",
    "\n",
    "Hint: keep the 'momentum rate scaling rate' fixed to 1, at least first."
   ]
  },
  {
   "cell_type": "code",
   "execution_count": null,
   "id": "1419d459",
   "metadata": {},
   "outputs": [],
   "source": [
    "interactive_plot = setup_interactive_optimization_case2()\n",
    "interactive_plot"
   ]
  },
  {
   "cell_type": "markdown",
   "id": "287a6059",
   "metadata": {},
   "source": [
    "## Answer\n",
    "Input your answers to the cell below."
   ]
  },
  {
   "cell_type": "markdown",
   "id": "f2237870",
   "metadata": {},
   "source": []
  }
 ],
 "metadata": {
  "kernelspec": {
   "display_name": "Python 3 (ipykernel)",
   "language": "python",
   "name": "python3"
  },
  "language_info": {
   "codemirror_mode": {
    "name": "ipython",
    "version": 3
   },
   "file_extension": ".py",
   "mimetype": "text/x-python",
   "name": "python",
   "nbconvert_exporter": "python",
   "pygments_lexer": "ipython3",
   "version": "3.9.16"
  }
 },
 "nbformat": 4,
 "nbformat_minor": 5
}
